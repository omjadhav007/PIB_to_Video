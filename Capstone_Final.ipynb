{
  "nbformat": 4,
  "nbformat_minor": 0,
  "metadata": {
    "colab": {
      "provenance": [],
      "mount_file_id": "1ZuRmhCFnvrtWEd3vOPILGuxm5K4KH3YA",
      "authorship_tag": "ABX9TyOpwViA1Rg8gRzM4ACnYqIU",
      "include_colab_link": true
    },
    "kernelspec": {
      "name": "python3",
      "display_name": "Python 3"
    },
    "language_info": {
      "name": "python"
    }
  },
  "cells": [
    {
      "cell_type": "markdown",
      "metadata": {
        "id": "view-in-github",
        "colab_type": "text"
      },
      "source": [
        "<a href=\"https://colab.research.google.com/github/omjadhav007/PIB_to_Video/blob/main/Capstone_Final.ipynb\" target=\"_parent\"><img src=\"https://colab.research.google.com/assets/colab-badge.svg\" alt=\"Open In Colab\"/></a>"
      ]
    },
    {
      "cell_type": "code",
      "source": [
        "import torch\n",
        "from transformers import T5ForConditionalGeneration, T5Tokenizer\n",
        "# # Load the saved model and tokenizer\n",
        "# model = T5ForConditionalGeneration.from_pretrained(\"t5-large\")\n",
        "# tokenizer = T5Tokenizer.from_pretrained(\"t5-large\")\n",
        "\n",
        "\n",
        "# model.save_pretrained(\"/content/drive/MyDrive/t5large_model\", from_pt=True)\n",
        "# tokenizer.save_pretrained(\"/content/drive/MyDrive/t5large_model\", from_pt=True)\n",
        "\n",
        "model = T5ForConditionalGeneration.from_pretrained(\"/content/drive/MyDrive/t5large_model\")\n",
        "tokenizer = T5Tokenizer.from_pretrained(\"/content/drive/MyDrive/t5large_model\")\n",
        "\n",
        "def abstractive_summarization(text):\n",
        "    # Tokenize the input text\n",
        "    inputs = tokenizer.encode(\"summarize: \" + text, return_tensors=\"pt\", max_length=512, truncation=True)\n",
        "    l=len(text)\n",
        "    # Generate summary\n",
        "    summary_ids = model.generate(inputs, max_length=150, min_length=50, length_penalty=2.0, num_beams=4, early_stopping=True)\n",
        "    # Decode summary tokens back to text\n",
        "    summary = tokenizer.decode(summary_ids[0], skip_special_tokens=True)\n",
        "    return summary"
      ],
      "metadata": {
        "colab": {
          "base_uri": "https://localhost:8080/"
        },
        "id": "gFPY7DYigFzp",
        "outputId": "62fa6478-6462-4a9d-fcbf-4de0297e17b3"
      },
      "execution_count": null,
      "outputs": [
        {
          "output_type": "stream",
          "name": "stderr",
          "text": [
            "Special tokens have been added in the vocabulary, make sure the associated word embeddings are fine-tuned or trained.\n"
          ]
        }
      ]
    },
    {
      "cell_type": "code",
      "source": [
        "# !pip install gTTS\n",
        "# !pip install pydub\n",
        "# !pip install phonemizer\n",
        "# !pip install moviepy\n",
        "# !pip install beautifulsoup4\n",
        "# !pip install urllib3\n",
        "import sys\n",
        "sys.path.append('/content/')\n",
        "import urllib.request\n",
        "import lxml\n",
        "from bs4 import BeautifulSoup\n",
        "import pandas as pd\n",
        "\n",
        "\n",
        "theurl = \"https://pib.gov.in/indexd.aspx\"\n",
        "thepage = urllib.request.urlopen(theurl)\n",
        "\n",
        "soup = BeautifulSoup(thepage,'html.parser')\n",
        "u=soup.find('ul',class_='release_list')\n",
        "hl=[]\n",
        "rel=[]\n",
        "des=[]\n",
        "sum=[]\n",
        "lks = [\"https://pib.gov.in/PressReleasePage\"+i['href'][18:] for i in u.find_all('a',href=True)]\n",
        "for i in lks:\n",
        "    page = urllib.request.urlopen(i)\n",
        "    s = BeautifulSoup(page,'html.parser')\n",
        "    hl.append(s.find('h2').text.strip())\n",
        "    rel.append(s.find('div',class_='ReleaseDateSubHeaddateTime').text.strip())\n",
        "    z=s.find_all('p')\n",
        "    d=\"\"\n",
        "    for j in z:\n",
        "        d+=j.text.strip()\n",
        "        if d==\"\":\n",
        "            break\n",
        "    des.append(d)\n",
        "    # print(len(d))\n",
        "obj={'links':lks, 'headline':hl, 'release':rel, 'description':des}\n",
        "# print(d)\n",
        "# df=pd.DataFrame(obj)\n",
        "\n",
        "# for i in range(len(sum)):\n",
        "#     extr.text_to_speech(obj['headline'][i][:5]+str(i+1),sum[i])\n",
        "\n",
        "# sum=abstractive_summarization(des[0])\n",
        "# print(sum)\n",
        "# print(df)\n",
        "\n",
        "# df.to_csv(\"newPIB_data.csv\")\n",
        "\n",
        "\n",
        "\n"
      ],
      "metadata": {
        "id": "vQrYb6HFgIvH"
      },
      "execution_count": null,
      "outputs": []
    },
    {
      "cell_type": "code",
      "source": [
        "for i in range(len(des)):\n",
        "    sum.append(abstractive_summarization(des[i]))"
      ],
      "metadata": {
        "id": "ixVJOMCFl7-U"
      },
      "execution_count": null,
      "outputs": []
    },
    {
      "cell_type": "code",
      "source": [
        "import cv2\n",
        "import numpy as np\n",
        "import random\n",
        "from gtts import gTTS\n",
        "from pydub import AudioSegment\n",
        "from phonemizer import phonemize\n",
        "from moviepy.editor import VideoFileClip, AudioFileClip, concatenate_videoclips, ImageClip\n",
        "\n",
        "from phonemizer.backend.espeak.wrapper import EspeakWrapper\n",
        "# EspeakWrapper.set_library('C:\\Program Files\\eSpeak NG\\libespeak-ng.dll')\n",
        "\n",
        "\n",
        "def audio_creation(file_name,text):\n",
        "    tts = gTTS(text, lang='en')\n",
        "    tts.save(\"Audios/\"+file_name + '.mp3')\n",
        "    audio = AudioSegment.from_mp3(\"Audios/\"+file_name + '.mp3')\n",
        "    audio_length=len(audio)\n",
        "    return audio_length\n",
        "\n",
        "def video_creation(text,file_name,audio_length):\n",
        "    # phonemes = phonemize(text, backend='espeak', language='en-us',strip=True, preserve_punctuation=True)\n",
        "    text=text.lower()\n",
        "    text_length=len(text)\n",
        "    phoneme_to_image = {\n",
        "        'a': 'girl/1.png'\n",
        "    }\n",
        "    l=[]\n",
        "    for i in range(12):\n",
        "        l.append(\"girl/\"+str(i+1)+\".png\")\n",
        "\n",
        "    for i in range(26):\n",
        "        s=i\n",
        "        s+=ord('a')\n",
        "        s=chr(s)\n",
        "        index=4\n",
        "        while index==4:\n",
        "            index=random.randrange(12)\n",
        "        phoneme_to_image[s]=l[index]\n",
        "    # print(phoneme_to_image)\n",
        "\n",
        "\n",
        "    # Prepare list of image clips\n",
        "    image_clips = []\n",
        "    phoneme_duration = audio_length/(1000*text_length)\n",
        "    print(audio_length//phoneme_duration)\n",
        "    for phoneme in text:\n",
        "        avatar_image = l[4]\n",
        "        if phoneme in phoneme_to_image:\n",
        "            avatar_image =phoneme_to_image[phoneme]\n",
        "        img_clip = ImageClip(avatar_image).set_duration(phoneme_duration)\n",
        "        image_clips.append(img_clip)\n",
        "\n",
        "    print(len(image_clips))\n",
        "    # print(image_clips)\n",
        "\n",
        "    # Step 4: Video Creation\n",
        "    video = concatenate_videoclips(image_clips, method=\"compose\")\n",
        "    audio_clip = AudioFileClip(\"Audios/\"+file_name+\".mp3\")\n",
        "    video = video.set_audio(audio_clip)\n",
        "    video.write_videofile(\"Videos/\"+file_name+\".mp4\", fps=5)\n",
        "\n",
        "    print(\"Video has been saved as '\"+file_name+\".mp4'\")\n",
        "\n",
        "\n"
      ],
      "metadata": {
        "id": "Us3XYC1ngmea"
      },
      "execution_count": null,
      "outputs": []
    },
    {
      "cell_type": "code",
      "source": [
        "for i in range(len(sum)):\n",
        "  para = sum[i]\n",
        "  file_name=hl[i][:5]+str(i+1)\n",
        "  aud_len=audio_creation(file_name,para)\n",
        "  video_creation(para,file_name,aud_len)"
      ],
      "metadata": {
        "colab": {
          "base_uri": "https://localhost:8080/"
        },
        "id": "HNSp_dSRjG5k",
        "outputId": "b055f08c-d3ab-4e92-d34b-2573d3f52d05"
      },
      "execution_count": null,
      "outputs": [
        {
          "output_type": "stream",
          "name": "stdout",
          "text": [
            "278999.0\n",
            "279\n",
            "Moviepy - Building video Videos/version3.mp4.\n",
            "MoviePy - Writing audio in version3TEMP_MPY_wvf_snd.mp3\n"
          ]
        },
        {
          "output_type": "stream",
          "name": "stderr",
          "text": []
        },
        {
          "output_type": "stream",
          "name": "stdout",
          "text": [
            "MoviePy - Done.\n",
            "Moviepy - Writing video Videos/version3.mp4\n",
            "\n"
          ]
        },
        {
          "output_type": "stream",
          "name": "stderr",
          "text": []
        },
        {
          "output_type": "stream",
          "name": "stdout",
          "text": [
            "Moviepy - Done !\n",
            "Moviepy - video ready Videos/version3.mp4\n",
            "Video has been saved as 'version3.mp4'\n"
          ]
        }
      ]
    }
  ]
}